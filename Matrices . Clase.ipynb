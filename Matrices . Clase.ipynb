{
 "cells": [
  {
   "cell_type": "code",
   "execution_count": 1,
   "id": "ec2c5816-a660-4bd9-a377-4cc067ae8c1e",
   "metadata": {},
   "outputs": [],
   "source": [
    "import numpy as np"
   ]
  },
  {
   "cell_type": "markdown",
   "id": "86d1cf07-d916-4643-9b53-71326e52ea15",
   "metadata": {},
   "source": [
    "# Maths with matrix"
   ]
  },
  {
   "cell_type": "code",
   "execution_count": 4,
   "id": "4e28753b-12c4-41c6-83c8-bd9ea072395e",
   "metadata": {},
   "outputs": [],
   "source": [
    "A = np.array([[1, 2],\n",
    "              [4, 5]])"
   ]
  },
  {
   "cell_type": "code",
   "execution_count": 5,
   "id": "44e79a2c-5301-41e5-980e-1145f96fe441",
   "metadata": {},
   "outputs": [
    {
     "data": {
      "text/plain": [
       "array([[1, 2],\n",
       "       [4, 5]])"
      ]
     },
     "execution_count": 5,
     "metadata": {},
     "output_type": "execute_result"
    }
   ],
   "source": [
    "A"
   ]
  },
  {
   "cell_type": "code",
   "execution_count": 7,
   "id": "1877a8c7-75ad-4ff0-b66f-d7b40e11380e",
   "metadata": {},
   "outputs": [
    {
     "data": {
      "text/plain": [
       "array([[6, 5],\n",
       "       [3, 2]])"
      ]
     },
     "execution_count": 7,
     "metadata": {},
     "output_type": "execute_result"
    }
   ],
   "source": [
    "B = np.array([[6, 5],\n",
    "              [3, 2]])\n",
    "B"
   ]
  },
  {
   "cell_type": "markdown",
   "id": "db501e4d-e3a9-4087-ac36-0be660278dee",
   "metadata": {},
   "source": [
    "## Sum of matrix"
   ]
  },
  {
   "cell_type": "code",
   "execution_count": 9,
   "id": "19e594bc-88ac-4a6b-974a-f2bf7527409d",
   "metadata": {},
   "outputs": [
    {
     "name": "stdout",
     "output_type": "stream",
     "text": [
      "[[1 2]\n",
      " [4 5]]\n",
      "+\n",
      "[[6 5]\n",
      " [3 2]]\n",
      "=\n",
      "[[7 7]\n",
      " [7 7]]\n"
     ]
    }
   ],
   "source": [
    "print(A)\n",
    "print(\"+\")\n",
    "print(B)\n",
    "print(\"=\")\n",
    "print(A+B)"
   ]
  },
  {
   "cell_type": "markdown",
   "id": "c058d128-98a6-4613-b68a-83c1bf0372b4",
   "metadata": {},
   "source": [
    "## Substraction"
   ]
  },
  {
   "cell_type": "code",
   "execution_count": 10,
   "id": "6b6d0403-c589-461e-b62d-86a0cba79ec1",
   "metadata": {},
   "outputs": [
    {
     "name": "stdout",
     "output_type": "stream",
     "text": [
      "[[1 2]\n",
      " [4 5]]\n",
      "-\n",
      "[[6 5]\n",
      " [3 2]]\n",
      "=\n",
      "[[-5 -3]\n",
      " [ 1  3]]\n"
     ]
    }
   ],
   "source": [
    "print(A)\n",
    "print(\"-\")\n",
    "print(B)\n",
    "print(\"=\")\n",
    "print(A-B)"
   ]
  },
  {
   "cell_type": "markdown",
   "id": "b487604b-8f66-4e88-850b-7c113953566a",
   "metadata": {},
   "source": [
    "## Multiplication"
   ]
  },
  {
   "cell_type": "code",
   "execution_count": 12,
   "id": "ad96bb3d-c677-4b89-b9fe-45194eeabd70",
   "metadata": {},
   "outputs": [
    {
     "name": "stdout",
     "output_type": "stream",
     "text": [
      "[[1 2]\n",
      " [4 5]]\n",
      "*\n",
      "[[6 5]\n",
      " [3 2]]\n",
      "=\n",
      "[[ 6 10]\n",
      " [12 10]]\n"
     ]
    }
   ],
   "source": [
    "# Multiplicación Escalar\n",
    "print(A)\n",
    "print(\"*\")\n",
    "print(B)\n",
    "print(\"=\")\n",
    "print(A*B)"
   ]
  },
  {
   "cell_type": "code",
   "execution_count": 15,
   "id": "f10cc5c1-789e-4341-a47e-718ce2b602d2",
   "metadata": {},
   "outputs": [
    {
     "name": "stdout",
     "output_type": "stream",
     "text": [
      "[[1 2]\n",
      " [4 5]]\n",
      "X\n",
      "[[6 5]\n",
      " [3 2]]\n",
      "=\n",
      "[[12  9]\n",
      " [39 30]]\n"
     ]
    }
   ],
   "source": [
    "# Multiplicación Vectorial\n",
    "print(A)\n",
    "print(\"X\")\n",
    "print(B)\n",
    "print(\"=\")\n",
    "print(np.dot(A, B))"
   ]
  },
  {
   "cell_type": "markdown",
   "id": "d6965005-496a-453d-8822-6849eb7bc988",
   "metadata": {},
   "source": [
    "## Reverse"
   ]
  },
  {
   "cell_type": "code",
   "execution_count": 16,
   "id": "2cfe2d27-89a3-4a41-b3a5-20bfa65f5074",
   "metadata": {},
   "outputs": [
    {
     "data": {
      "text/plain": [
       "array([[-1.66666667,  0.66666667],\n",
       "       [ 1.33333333, -0.33333333]])"
      ]
     },
     "execution_count": 16,
     "metadata": {},
     "output_type": "execute_result"
    }
   ],
   "source": [
    "np.linalg.inv(A)"
   ]
  },
  {
   "cell_type": "code",
   "execution_count": 17,
   "id": "3cba65fe-8731-4925-9a26-87539c8bbe4c",
   "metadata": {},
   "outputs": [
    {
     "name": "stdout",
     "output_type": "stream",
     "text": [
      "[[1 2]\n",
      " [4 5]] ^-1\n",
      "=\n",
      "[[-1.66666667  0.66666667]\n",
      " [ 1.33333333 -0.33333333]]\n"
     ]
    }
   ],
   "source": [
    "print(A, \"^-1\")\n",
    "print(\"=\")\n",
    "print(np.linalg.inv(A))"
   ]
  },
  {
   "cell_type": "code",
   "execution_count": 19,
   "id": "5bfcf9e2-f217-4b5e-b308-7ed11764d0aa",
   "metadata": {},
   "outputs": [
    {
     "data": {
      "text/plain": [
       "array([[1., 0.],\n",
       "       [0., 1.]])"
      ]
     },
     "execution_count": 19,
     "metadata": {},
     "output_type": "execute_result"
    }
   ],
   "source": [
    "identidad = np.array([[1,0],\n",
    "                      [0,1]])\n",
    "np.linalg.inv(identidad)"
   ]
  },
  {
   "cell_type": "code",
   "execution_count": 22,
   "id": "9af0f2ba-fba4-4ec5-9274-58766cb77c9d",
   "metadata": {},
   "outputs": [
    {
     "name": "stdout",
     "output_type": "stream",
     "text": [
      "[[1 2]\n",
      " [4 5]]\n",
      "X\n",
      "[[1 0]\n",
      " [0 1]]\n",
      "=\n",
      "[[1 2]\n",
      " [4 5]]\n"
     ]
    }
   ],
   "source": [
    "print(A)\n",
    "print(\"X\")\n",
    "print(identidad)\n",
    "print(\"=\")\n",
    "print(np.dot(A, identidad))"
   ]
  },
  {
   "cell_type": "code",
   "execution_count": 21,
   "id": "f53bd14e-6ab7-4fa9-a758-513570ebd9fb",
   "metadata": {},
   "outputs": [
    {
     "data": {
      "text/plain": [
       "array([[1, 0, 0],\n",
       "       [0, 1, 0],\n",
       "       [0, 0, 1]])"
      ]
     },
     "execution_count": 21,
     "metadata": {},
     "output_type": "execute_result"
    }
   ],
   "source": [
    "np.array([[1,0,0],\n",
    "          [0,1,0],\n",
    "          [0,0,1]])"
   ]
  },
  {
   "cell_type": "markdown",
   "id": "6b5feca6-92bc-42a9-bf8e-60056c7f8d76",
   "metadata": {},
   "source": [
    "## Determinant"
   ]
  },
  {
   "cell_type": "code",
   "execution_count": 23,
   "id": "0919d155-1bc1-4d05-914e-b6d0cba1b4c9",
   "metadata": {},
   "outputs": [
    {
     "data": {
      "text/plain": [
       "-2.9999999999999996"
      ]
     },
     "execution_count": 23,
     "metadata": {},
     "output_type": "execute_result"
    }
   ],
   "source": [
    "np.linalg.det(A)"
   ]
  },
  {
   "cell_type": "code",
   "execution_count": 24,
   "id": "762205f4-7ba9-4bfd-8e87-f87af53f1728",
   "metadata": {},
   "outputs": [
    {
     "data": {
      "text/plain": [
       "1.0"
      ]
     },
     "execution_count": 24,
     "metadata": {},
     "output_type": "execute_result"
    }
   ],
   "source": [
    "A = np.array([[1, -2],\n",
    "              [1, -1]])\n",
    "np.linalg.det(A)"
   ]
  },
  {
   "cell_type": "markdown",
   "id": "f357f993-b7e5-4672-9e05-af7c546d648e",
   "metadata": {},
   "source": [
    "## Range of an matrix"
   ]
  },
  {
   "cell_type": "code",
   "execution_count": 33,
   "id": "079fa7fa-4246-47ed-86eb-55b7d76154da",
   "metadata": {},
   "outputs": [],
   "source": [
    "A = np.array([[1,2], \n",
    "              [2,4]])"
   ]
  },
  {
   "cell_type": "code",
   "execution_count": 34,
   "id": "ce2f8e9d-b567-41c4-8756-adc14da90cbb",
   "metadata": {},
   "outputs": [
    {
     "data": {
      "text/plain": [
       "0.0"
      ]
     },
     "execution_count": 34,
     "metadata": {},
     "output_type": "execute_result"
    }
   ],
   "source": [
    "np.linalg.det(A)"
   ]
  },
  {
   "cell_type": "code",
   "execution_count": 35,
   "id": "5e369e61-7bdc-49ca-83b5-7ae89b7940e8",
   "metadata": {},
   "outputs": [],
   "source": [
    "A = np.array([[1,2], \n",
    "              [2,4], \n",
    "              [4,8]])"
   ]
  },
  {
   "cell_type": "code",
   "execution_count": null,
   "id": "2bd7c906-45d4-4038-8259-fe806eb29db4",
   "metadata": {},
   "outputs": [],
   "source": [
    "np.linalg.det(A)"
   ]
  },
  {
   "cell_type": "code",
   "execution_count": 31,
   "id": "7e5df08a-65fa-4dd9-bdff-afd91c1fda24",
   "metadata": {},
   "outputs": [
    {
     "data": {
      "text/plain": [
       "1"
      ]
     },
     "execution_count": 31,
     "metadata": {},
     "output_type": "execute_result"
    }
   ],
   "source": [
    "np.linalg.matrix_rank(A)"
   ]
  },
  {
   "cell_type": "code",
   "execution_count": 32,
   "id": "1a5fa93c-6e89-4865-ba16-4c2ccc78d7fd",
   "metadata": {},
   "outputs": [
    {
     "data": {
      "text/plain": [
       "2"
      ]
     },
     "execution_count": 32,
     "metadata": {},
     "output_type": "execute_result"
    }
   ],
   "source": [
    "A = np.array([[1,2], \n",
    "              [2,4], \n",
    "              [4,8], \n",
    "              [1,3]])\n",
    "np.linalg.matrix_rank(A)"
   ]
  },
  {
   "cell_type": "markdown",
   "id": "f35ecc2d-f644-44da-9dd5-9741e7aaa523",
   "metadata": {},
   "source": [
    "## Systems of equations with Matrices"
   ]
  },
  {
   "cell_type": "markdown",
   "id": "7656b147-2f09-441e-8b3f-e3bb9c5c2576",
   "metadata": {},
   "source": [
    "Suppose we have the following problem:\n",
    "* Juan is twice Maria's age\n",
    "* Juan is 15 years older than Maria\n",
    "\n",
    "The system of equations would be the following\n",
    "\n",
    "```\n",
    "X - 2Y = 0\n",
    "X - Y = 15\n",
    "```\n",
    "The system expressed in Matrix form would be the following:\n",
    "\n",
    "$\n",
    "\\begin{bmatrix}\n",
    "1 & -2 \\\\\n",
    "eleven \\\\\n",
    "\\end{bmatrix}\n",
    "\\begin{bmatrix}\n",
    "X \\\\\n",
    "AND \\\\\n",
    "\\end{bmatrix}\n",
    "=\n",
    "\\begin{bmatrix}\n",
    "0 \\\\\n",
    "fifteen \\\\\n",
    "\\end{bmatrix}\n",
    "$\n",
    "\n",
    "Reducing the notation, the system would be:\n",
    "\n",
    "\\begin{equation}\n",
    "A \\cdot X = B\n",
    "\\end{equation}\n",
    "\\begin{equation}\n",
    "X = A^{-1} \\cdot B\n",
    "\\end{equation}"
   ]
  },
  {
   "cell_type": "code",
   "execution_count": 37,
   "id": "8871544a-709c-48a9-b7bf-71f988451f8a",
   "metadata": {},
   "outputs": [],
   "source": [
    "A = np.array([[1, -2],\n",
    "              [1, -1]])\n",
    "\n",
    "B = np.array([0,15])"
   ]
  },
  {
   "cell_type": "code",
   "execution_count": 38,
   "id": "24baa873-c681-465b-ad7d-f5c36ea29245",
   "metadata": {},
   "outputs": [
    {
     "data": {
      "text/plain": [
       "array([[ 1, -2],\n",
       "       [ 1, -1]])"
      ]
     },
     "execution_count": 38,
     "metadata": {},
     "output_type": "execute_result"
    }
   ],
   "source": [
    "A"
   ]
  },
  {
   "cell_type": "code",
   "execution_count": 39,
   "id": "2bf3ad57-011b-4501-92fb-cac31cfb54c2",
   "metadata": {},
   "outputs": [
    {
     "data": {
      "text/plain": [
       "array([ 0, 15])"
      ]
     },
     "execution_count": 39,
     "metadata": {},
     "output_type": "execute_result"
    }
   ],
   "source": [
    "B"
   ]
  },
  {
   "cell_type": "code",
   "execution_count": 41,
   "id": "1c1d148a-a35c-4f8f-8191-fca49e508f0d",
   "metadata": {},
   "outputs": [
    {
     "data": {
      "text/plain": [
       "array([[-1.,  2.],\n",
       "       [-1.,  1.]])"
      ]
     },
     "execution_count": 41,
     "metadata": {},
     "output_type": "execute_result"
    }
   ],
   "source": [
    "inv_A = np.linalg.inv(A)\n",
    "inv_A"
   ]
  },
  {
   "cell_type": "code",
   "execution_count": 43,
   "id": "1df1d34d-2dce-4f23-8a3f-64c55370e27d",
   "metadata": {},
   "outputs": [
    {
     "data": {
      "text/plain": [
       "array([30., 15.])"
      ]
     },
     "execution_count": 43,
     "metadata": {},
     "output_type": "execute_result"
    }
   ],
   "source": [
    "# Producto Vectorial\n",
    "np.dot(inv_A,B)"
   ]
  },
  {
   "cell_type": "markdown",
   "id": "9245724c-1a14-4159-b188-279aabd94133",
   "metadata": {},
   "source": [
    "## SI, SCI y SCD"
   ]
  },
  {
   "cell_type": "code",
   "execution_count": 44,
   "id": "f73f83b6-a21d-4f3b-9c86-27a48db5aab4",
   "metadata": {},
   "outputs": [],
   "source": [
    "## SI el DET != 0 -> SCD\n",
    "\n",
    "## SI el DET == 0 \n",
    "   # SCI -> LD en A y B\n",
    "   # SI  -> LD solo en A"
   ]
  },
  {
   "cell_type": "markdown",
   "id": "555efc4f-029b-495f-828a-fc6f6c0c52ad",
   "metadata": {},
   "source": [
    "### SCD"
   ]
  },
  {
   "cell_type": "code",
   "execution_count": 45,
   "id": "bf221c78-23e1-4540-b284-e13c86ebf22f",
   "metadata": {},
   "outputs": [
    {
     "data": {
      "text/plain": [
       "1.0"
      ]
     },
     "execution_count": 45,
     "metadata": {},
     "output_type": "execute_result"
    }
   ],
   "source": [
    "# SCD \n",
    "A = np.array([[1, -2],\n",
    "              [1, -1]])\n",
    "\n",
    "B = np.array([0,15])\n",
    "\n",
    "np.linalg.det(A)"
   ]
  },
  {
   "cell_type": "markdown",
   "id": "54fe6a8a-0106-45ea-b00e-5887fec49538",
   "metadata": {},
   "source": [
    "### SCI"
   ]
  },
  {
   "cell_type": "code",
   "execution_count": 49,
   "id": "2fd4e5be-576d-4a7c-bfb4-5d12d0992c19",
   "metadata": {},
   "outputs": [
    {
     "data": {
      "text/plain": [
       "0.0"
      ]
     },
     "execution_count": 49,
     "metadata": {},
     "output_type": "execute_result"
    }
   ],
   "source": [
    "# SCI \n",
    "A = np.array([[1, -2],\n",
    "              [2, -4]])\n",
    "\n",
    "B = np.array([0, 0])\n",
    "\n",
    "np.linalg.det(A)"
   ]
  },
  {
   "cell_type": "code",
   "execution_count": 47,
   "id": "0c58c9ef-2274-4bd9-9c18-43b2877b14e0",
   "metadata": {},
   "outputs": [
    {
     "data": {
      "text/plain": [
       "1"
      ]
     },
     "execution_count": 47,
     "metadata": {},
     "output_type": "execute_result"
    }
   ],
   "source": [
    "# SCI pq DET = 0 y rango(A_B) = 1\n",
    "A_B = np.array([[1, -2, 0],\n",
    "                [2, -4, 0]])\n",
    "np.linalg.matrix_rank(A_B)"
   ]
  },
  {
   "cell_type": "markdown",
   "id": "aed3b78f-0437-4113-983c-52a267ab5f02",
   "metadata": {},
   "source": [
    "# SI"
   ]
  },
  {
   "cell_type": "code",
   "execution_count": 50,
   "id": "b6d27339-44ad-4b5f-bc7b-9fa4a98edf20",
   "metadata": {},
   "outputs": [
    {
     "data": {
      "text/plain": [
       "0.0"
      ]
     },
     "execution_count": 50,
     "metadata": {},
     "output_type": "execute_result"
    }
   ],
   "source": [
    "# SI \n",
    "A = np.array([[1, -1],\n",
    "              [1, -1]])\n",
    "\n",
    "B = np.array([15, 10])\n",
    "np.linalg.det(A)"
   ]
  },
  {
   "cell_type": "code",
   "execution_count": 51,
   "id": "1bae2c69-30f0-4c8d-99be-941f63598e6d",
   "metadata": {},
   "outputs": [
    {
     "data": {
      "text/plain": [
       "2"
      ]
     },
     "execution_count": 51,
     "metadata": {},
     "output_type": "execute_result"
    }
   ],
   "source": [
    "A_B = np.array([[1, -1, 15],\n",
    "                [1, -1, 10]])\n",
    "np.linalg.matrix_rank(A_B)"
   ]
  },
  {
   "cell_type": "code",
   "execution_count": null,
   "id": "69021771-2cf5-4a60-91ec-94da09e7dd06",
   "metadata": {},
   "outputs": [],
   "source": []
  }
 ],
 "metadata": {
  "kernelspec": {
   "display_name": "Python 3 (ipykernel)",
   "language": "python",
   "name": "python3"
  },
  "language_info": {
   "codemirror_mode": {
    "name": "ipython",
    "version": 3
   },
   "file_extension": ".py",
   "mimetype": "text/x-python",
   "name": "python",
   "nbconvert_exporter": "python",
   "pygments_lexer": "ipython3",
   "version": "3.11.7"
  }
 },
 "nbformat": 4,
 "nbformat_minor": 5
}
